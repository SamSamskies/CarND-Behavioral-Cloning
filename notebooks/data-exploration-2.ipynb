{
 "cells": [
  {
   "cell_type": "markdown",
   "metadata": {},
   "source": [
    "## experiment with setting up a preprocessing pipeline\n",
    "https://keras.io/preprocessing/image/\n",
    "## read nvidia paper\n",
    "http://images.nvidia.com/content/tegra/automotive/images/2016/solutions/pdf/end-to-end-dl-using-px.pdf"
   ]
  },
  {
   "cell_type": "markdown",
   "metadata": {},
   "source": [
    "## Todo:\n",
    "1. Remove steering 0 bias from data frame\n",
    "2. Implement get_preprocessed_image which grabs a random image from the dataframe. 50% of the time use Keras image generator to manipulate the image.\n",
    "    * adjust steering angle for left (+.25) and right images (-.25)\n",
    "    * crop image[32:132]\n",
    "    * convert to RGB\n",
    "    * resize to 64 x 64\n",
    "3. Split dataframe into X_train, y_train, X_valid, y_valid\n",
    "    * use train_test_split 10% validation\n",
    "4. Use keras generator with rotation_range=5 and maybe some other shifts\n",
    "    1. samples_per_epoch=len(X_train)\n",
    "    2. batch_size=32\n",
    "    3. nb_epoch=1\n",
    "5. Explore values manually\n",
    "6. Save model and weights"
   ]
  },
  {
   "cell_type": "code",
   "execution_count": 41,
   "metadata": {
    "collapsed": false
   },
   "outputs": [],
   "source": [
    "from keras.preprocessing.image import ImageDataGenerator, array_to_img, img_to_array, load_img\n",
    "import random\n",
    "import pandas as pd\n",
    "import numpy as np\n",
    "import cv2\n",
    "import matplotlib.image as mpimg\n",
    "import matplotlib.pyplot as plt\n",
    "%matplotlib inline\n",
    "\n",
    "\n",
    "def remove_zero_bias(df):\n",
    "    rows_with_steering_zero = df[(df.steering == 0)]\n",
    "    total_rows_with_steering_zero = len(rows_with_steering_zero)\n",
    "    drop_indices = np.random.choice(rows_with_steering_zero.index, int(total_rows_with_steering_zero * 0.95), replace=False)\n",
    "    \n",
    "    return df.drop(drop_indices)\n",
    "\n",
    "\n",
    "def augment_and_reshape_dataframe(df):\n",
    "    rows = []\n",
    "    \n",
    "    for _, row in df.iterrows():\n",
    "        rows.append({ 'image': row.left, 'steering': row.steering + .25 })\n",
    "        rows.append({ 'image': row.center, 'steering': row.steering })\n",
    "        rows.append({ 'image': row.right, 'steering': row.steering - .25 })\n",
    "        \n",
    "    return pd.DataFrame(rows)\n",
    "\n",
    "\n",
    "def augment_with_horizontal_flip(df):\n",
    "    pass\n",
    "    \n",
    "    \n",
    "def generate_features_and_labels(df):\n",
    "    df = remove_zero_bias(df)\n",
    "    df = augment_and_reshape_dataframe(df)\n",
    "    \n",
    "    return df"
   ]
  },
  {
   "cell_type": "code",
   "execution_count": 47,
   "metadata": {
    "collapsed": false
   },
   "outputs": [
    {
     "data": {
      "text/html": [
       "<div>\n",
       "<table border=\"1\" class=\"dataframe\">\n",
       "  <thead>\n",
       "    <tr style=\"text-align: right;\">\n",
       "      <th></th>\n",
       "      <th>image</th>\n",
       "      <th>steering</th>\n",
       "    </tr>\n",
       "  </thead>\n",
       "  <tbody>\n",
       "    <tr>\n",
       "      <th>0</th>\n",
       "      <td>IMG/left_2016_12_01_13_31_15_411.jpg</td>\n",
       "      <td>0.25</td>\n",
       "    </tr>\n",
       "    <tr>\n",
       "      <th>1</th>\n",
       "      <td>IMG/center_2016_12_01_13_31_15_411.jpg</td>\n",
       "      <td>0.00</td>\n",
       "    </tr>\n",
       "    <tr>\n",
       "      <th>2</th>\n",
       "      <td>IMG/right_2016_12_01_13_31_15_411.jpg</td>\n",
       "      <td>-0.25</td>\n",
       "    </tr>\n",
       "    <tr>\n",
       "      <th>3</th>\n",
       "      <td>IMG/left_2016_12_01_13_32_42_446.jpg</td>\n",
       "      <td>0.25</td>\n",
       "    </tr>\n",
       "    <tr>\n",
       "      <th>4</th>\n",
       "      <td>IMG/center_2016_12_01_13_32_42_446.jpg</td>\n",
       "      <td>0.00</td>\n",
       "    </tr>\n",
       "  </tbody>\n",
       "</table>\n",
       "</div>"
      ],
      "text/plain": [
       "                                    image  steering\n",
       "0    IMG/left_2016_12_01_13_31_15_411.jpg      0.25\n",
       "1  IMG/center_2016_12_01_13_31_15_411.jpg      0.00\n",
       "2   IMG/right_2016_12_01_13_31_15_411.jpg     -0.25\n",
       "3    IMG/left_2016_12_01_13_32_42_446.jpg      0.25\n",
       "4  IMG/center_2016_12_01_13_32_42_446.jpg      0.00"
      ]
     },
     "execution_count": 47,
     "metadata": {},
     "output_type": "execute_result"
    },
    {
     "data": {
      "image/png": "[encoded data removed]",
      "text/plain": [
       "<matplotlib.figure.Figure at 0x1219f7080>"
      ]
     },
     "metadata": {},
     "output_type": "display_data"
    }
   ],
   "source": [
    "df = generate_features_and_labels(pd.read_csv('../data/' + 'driving_log.csv'))\n",
    "df.hist(column='steering', bins=60)\n",
    "df.head()"
   ]
  },
  {
   "cell_type": "code",
   "execution_count": 43,
   "metadata": {
    "collapsed": false
   },
   "outputs": [
    {
     "data": {
      "text/plain": [
       "11682"
      ]
     },
     "execution_count": 43,
     "metadata": {},
     "output_type": "execute_result"
    }
   ],
   "source": [
    "len(df)"
   ]
  },
  {
   "cell_type": "code",
   "execution_count": null,
   "metadata": {
    "collapsed": true
   },
   "outputs": [],
   "source": []
  }
 ],
 "metadata": {
  "anaconda-cloud": {},
  "kernelspec": {
   "display_name": "Python [conda env:python3]",
   "language": "python",
   "name": "conda-env-python3-py"
  },
  "language_info": {
   "codemirror_mode": {
    "name": "ipython",
    "version": 3
   },
   "file_extension": ".py",
   "mimetype": "text/x-python",
   "name": "python",
   "nbconvert_exporter": "python",
   "pygments_lexer": "ipython3",
   "version": "3.5.2"
  }
 },
 "nbformat": 4,
 "nbformat_minor": 1
}
