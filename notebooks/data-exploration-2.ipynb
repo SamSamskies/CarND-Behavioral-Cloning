{
 "cells": [
  {
   "cell_type": "markdown",
   "metadata": {},
   "source": [
    "## experiment with setting up a preprocessing pipeline\n",
    "https://keras.io/preprocessing/image/\n",
    "## read nvidia paper\n",
    "http://images.nvidia.com/content/tegra/automotive/images/2016/solutions/pdf/end-to-end-dl-using-px.pdf"
   ]
  },
  {
   "cell_type": "markdown",
   "metadata": {},
   "source": [
    "## Todo:\n",
    "1. Remove steering 0 bias\n",
    "2. Map each row to 3 rows with each row correspoding to each image and consolidate center, left, right columns into one column called feature\n",
    "    a. adjust steering angle for left (+.25) and right images (-.25)\n",
    "    b. feature column should include processed image\n",
    "        1. crop image[32:132]\n",
    "        2. convert to RGB\n",
    "        3. resize to 64 x 64\n",
    "3. Split dataframe into X_train, y_train, X_valid, y_valid, X_test, y_test\n",
    "    a. use train_test_split 10% validation, 30% test\n",
    "4. Use keras generator to rescale=1./255, rotation_range=5, horizontal_flip=True\n",
    "    1. samples_per_epoch=len(X_train)\n",
    "    2. batch_size=32\n",
    "    3. nb_epoch=1\n",
    "5. Explore values manually\n",
    "6. Save model and weights"
   ]
  },
  {
   "cell_type": "code",
   "execution_count": null,
   "metadata": {
    "collapsed": true
   },
   "outputs": [],
   "source": []
  }
 ],
 "metadata": {
  "kernelspec": {
   "display_name": "Python [conda env:python3]",
   "language": "python",
   "name": "conda-env-python3-py"
  },
  "language_info": {
   "codemirror_mode": {
    "name": "ipython",
    "version": 3
   },
   "file_extension": ".py",
   "mimetype": "text/x-python",
   "name": "python",
   "nbconvert_exporter": "python",
   "pygments_lexer": "ipython3",
   "version": "3.5.2"
  }
 },
 "nbformat": 4,
 "nbformat_minor": 1
}
