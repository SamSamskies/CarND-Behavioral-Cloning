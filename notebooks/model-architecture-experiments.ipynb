{
 "cells": [
  {
   "cell_type": "markdown",
   "metadata": {},
   "source": [
    "## Useful links\n",
    "- vgg16 keras implementation - https://gist.github.com/baraldilorenzo/07d7802847aaad0a35d3\n",
    "- another vgg16 keras implementation - https://github.com/SamSamskies/courses/blob/master/deeplearning1/nbs/vgg16.py\n",
    "- keras model API - https://keras.io/models/model/\n",
    "- nvidia model implementation - https://github.com/jacobgil/keras-steering-angle-visualizations\n",
    "- vehicle steering angle visualizations blog post - https://jacobgil.github.io/deeplearning/vehicle-steering-angle-visualizations\n",
    "- comma ai - https://github.com/commaai/research/blob/master/train_steering_model.py"
   ]
  },
  {
   "cell_type": "code",
   "execution_count": 5,
   "metadata": {
    "collapsed": false
   },
   "outputs": [],
   "source": [
    "from keras.models import Sequential\n",
    "from keras.layers import Dense, Dropout, Flatten, Lambda, ELU\n",
    "from keras.layers.convolutional import Convolution2D\n",
    "\n",
    "IMAGE_SHAPE = (100, 320, 3)\n",
    "\n",
    "def save_model(model, model_filename, weights_filename):\n",
    "    if Path(model_filename).is_file():\n",
    "        os.remove(model_filename)\n",
    "\n",
    "    with open(model_filename,'w' ) as f:\n",
    "        json.dump(model.to_json(), f)\n",
    "        \n",
    "    if Path(weights_filename).is_file():\n",
    "        os.remove(weights_filename)\n",
    "        \n",
    "    model.save_weights(weights_filename)\n",
    "    \n",
    "\n",
    "def get_commaai_model():\n",
    "    model = Sequential()\n",
    "    model.add(Lambda(lambda x: x/127.5 - 1., input_shape=IMAGE_SHAPE))\n",
    "    model.add(Convolution2D(16, 8, 8, subsample=(4, 4), border_mode=\"same\"))\n",
    "    model.add(ELU())\n",
    "    model.add(Convolution2D(32, 5, 5, subsample=(2, 2), border_mode=\"same\"))\n",
    "    model.add(ELU())\n",
    "    model.add(Convolution2D(64, 5, 5, subsample=(2, 2), border_mode=\"same\"))\n",
    "    model.add(Flatten())\n",
    "    model.add(Dropout(.2))\n",
    "    model.add(ELU())\n",
    "    model.add(Dense(512))\n",
    "    model.add(Dropout(.5))\n",
    "    model.add(ELU())\n",
    "    model.add(Dense(1))\n",
    "\n",
    "    model.compile(optimizer=\"adam\", loss=\"mse\")\n",
    "              \n",
    "    return model"
   ]
  },
  {
   "cell_type": "code",
   "execution_count": 9,
   "metadata": {
    "collapsed": false
   },
   "outputs": [
    {
     "name": "stdout",
     "output_type": "stream",
     "text": [
      "____________________________________________________________________________________________________\n",
      "Layer (type)                     Output Shape          Param #     Connected to                     \n",
      "====================================================================================================\n",
      "lambda_4 (Lambda)                (None, 100, 320, 3)   0           lambda_input_4[0][0]             \n",
      "____________________________________________________________________________________________________\n",
      "convolution2d_10 (Convolution2D) (None, 25, 80, 16)    3088        lambda_4[0][0]                   \n",
      "____________________________________________________________________________________________________\n",
      "elu_13 (ELU)                     (None, 25, 80, 16)    0           convolution2d_10[0][0]           \n",
      "____________________________________________________________________________________________________\n",
      "convolution2d_11 (Convolution2D) (None, 13, 40, 32)    12832       elu_13[0][0]                     \n",
      "____________________________________________________________________________________________________\n",
      "elu_14 (ELU)                     (None, 13, 40, 32)    0           convolution2d_11[0][0]           \n",
      "____________________________________________________________________________________________________\n",
      "convolution2d_12 (Convolution2D) (None, 7, 20, 64)     51264       elu_14[0][0]                     \n",
      "____________________________________________________________________________________________________\n",
      "flatten_4 (Flatten)              (None, 8960)          0           convolution2d_12[0][0]           \n",
      "____________________________________________________________________________________________________\n",
      "dropout_7 (Dropout)              (None, 8960)          0           flatten_4[0][0]                  \n",
      "____________________________________________________________________________________________________\n",
      "elu_15 (ELU)                     (None, 8960)          0           dropout_7[0][0]                  \n",
      "____________________________________________________________________________________________________\n",
      "dense_7 (Dense)                  (None, 512)           4588032     elu_15[0][0]                     \n",
      "____________________________________________________________________________________________________\n",
      "dropout_8 (Dropout)              (None, 512)           0           dense_7[0][0]                    \n",
      "____________________________________________________________________________________________________\n",
      "elu_16 (ELU)                     (None, 512)           0           dropout_8[0][0]                  \n",
      "____________________________________________________________________________________________________\n",
      "dense_8 (Dense)                  (None, 1)             513         elu_16[0][0]                     \n",
      "====================================================================================================\n",
      "Total params: 4,655,729\n",
      "Trainable params: 4,655,729\n",
      "Non-trainable params: 0\n",
      "____________________________________________________________________________________________________\n"
     ]
    }
   ],
   "source": [
    "model = get_commaai_model()\n",
    "model.summary()"
   ]
  },
  {
   "cell_type": "code",
   "execution_count": null,
   "metadata": {
    "collapsed": true
   },
   "outputs": [],
   "source": [
    "# TODO: \n",
    "# 1. Make utils file with dataframe augmentation functions and load image function\n",
    "# 2. Load a small sample subset and train model and try running the simulation with it\n",
    "# 3. Try to figure out how to make a generator to use with fit_generator"
   ]
  }
 ],
 "metadata": {
  "anaconda-cloud": {},
  "kernelspec": {
   "display_name": "Python [conda env:python3]",
   "language": "python",
   "name": "conda-env-python3-py"
  },
  "language_info": {
   "codemirror_mode": {
    "name": "ipython",
    "version": 3
   },
   "file_extension": ".py",
   "mimetype": "text/x-python",
   "name": "python",
   "nbconvert_exporter": "python",
   "pygments_lexer": "ipython3",
   "version": "3.5.2"
  }
 },
 "nbformat": 4,
 "nbformat_minor": 1
}
